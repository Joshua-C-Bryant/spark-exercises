{
 "cells": [
  {
   "cell_type": "code",
   "execution_count": 1,
   "id": "59a124e9",
   "metadata": {},
   "outputs": [],
   "source": [
    "import pandas as pd\n",
    "import numpy as np\n",
    "import pyspark\n",
    "\n",
    "np.random.seed(13)\n",
    "\n",
    "pandas_dataframe = pd.DataFrame({\n",
    "    \"n\": np.random.randn(20),\n",
    "    \"group\": np.random.choice(list(\"xyz\"), 20),\n",
    "    \"abool\": np.random.choice([True, False], 20),\n",
    "})"
   ]
  },
  {
   "cell_type": "markdown",
   "id": "2bbaf3d0",
   "metadata": {},
   "source": [
    "### Spark Dataframe Basics\n"
   ]
  },
  {
   "cell_type": "code",
   "execution_count": 2,
   "id": "9c56a227",
   "metadata": {
    "scrolled": true
   },
   "outputs": [
    {
     "data": {
      "text/html": [
       "<div>\n",
       "<style scoped>\n",
       "    .dataframe tbody tr th:only-of-type {\n",
       "        vertical-align: middle;\n",
       "    }\n",
       "\n",
       "    .dataframe tbody tr th {\n",
       "        vertical-align: top;\n",
       "    }\n",
       "\n",
       "    .dataframe thead th {\n",
       "        text-align: right;\n",
       "    }\n",
       "</style>\n",
       "<table border=\"1\" class=\"dataframe\">\n",
       "  <thead>\n",
       "    <tr style=\"text-align: right;\">\n",
       "      <th></th>\n",
       "      <th>n</th>\n",
       "      <th>group</th>\n",
       "      <th>abool</th>\n",
       "    </tr>\n",
       "  </thead>\n",
       "  <tbody>\n",
       "    <tr>\n",
       "      <th>0</th>\n",
       "      <td>-0.712391</td>\n",
       "      <td>z</td>\n",
       "      <td>False</td>\n",
       "    </tr>\n",
       "    <tr>\n",
       "      <th>1</th>\n",
       "      <td>0.753766</td>\n",
       "      <td>x</td>\n",
       "      <td>False</td>\n",
       "    </tr>\n",
       "    <tr>\n",
       "      <th>2</th>\n",
       "      <td>-0.044503</td>\n",
       "      <td>z</td>\n",
       "      <td>False</td>\n",
       "    </tr>\n",
       "    <tr>\n",
       "      <th>3</th>\n",
       "      <td>0.451812</td>\n",
       "      <td>y</td>\n",
       "      <td>False</td>\n",
       "    </tr>\n",
       "    <tr>\n",
       "      <th>4</th>\n",
       "      <td>1.345102</td>\n",
       "      <td>z</td>\n",
       "      <td>False</td>\n",
       "    </tr>\n",
       "    <tr>\n",
       "      <th>5</th>\n",
       "      <td>0.532338</td>\n",
       "      <td>y</td>\n",
       "      <td>False</td>\n",
       "    </tr>\n",
       "    <tr>\n",
       "      <th>6</th>\n",
       "      <td>1.350188</td>\n",
       "      <td>z</td>\n",
       "      <td>False</td>\n",
       "    </tr>\n",
       "    <tr>\n",
       "      <th>7</th>\n",
       "      <td>0.861211</td>\n",
       "      <td>x</td>\n",
       "      <td>False</td>\n",
       "    </tr>\n",
       "    <tr>\n",
       "      <th>8</th>\n",
       "      <td>1.478686</td>\n",
       "      <td>z</td>\n",
       "      <td>True</td>\n",
       "    </tr>\n",
       "    <tr>\n",
       "      <th>9</th>\n",
       "      <td>-1.045377</td>\n",
       "      <td>y</td>\n",
       "      <td>True</td>\n",
       "    </tr>\n",
       "    <tr>\n",
       "      <th>10</th>\n",
       "      <td>-0.788989</td>\n",
       "      <td>x</td>\n",
       "      <td>False</td>\n",
       "    </tr>\n",
       "    <tr>\n",
       "      <th>11</th>\n",
       "      <td>-1.261606</td>\n",
       "      <td>y</td>\n",
       "      <td>False</td>\n",
       "    </tr>\n",
       "    <tr>\n",
       "      <th>12</th>\n",
       "      <td>0.562847</td>\n",
       "      <td>y</td>\n",
       "      <td>True</td>\n",
       "    </tr>\n",
       "    <tr>\n",
       "      <th>13</th>\n",
       "      <td>-0.243326</td>\n",
       "      <td>y</td>\n",
       "      <td>True</td>\n",
       "    </tr>\n",
       "    <tr>\n",
       "      <th>14</th>\n",
       "      <td>0.913741</td>\n",
       "      <td>y</td>\n",
       "      <td>False</td>\n",
       "    </tr>\n",
       "    <tr>\n",
       "      <th>15</th>\n",
       "      <td>0.317351</td>\n",
       "      <td>x</td>\n",
       "      <td>False</td>\n",
       "    </tr>\n",
       "    <tr>\n",
       "      <th>16</th>\n",
       "      <td>0.127303</td>\n",
       "      <td>z</td>\n",
       "      <td>False</td>\n",
       "    </tr>\n",
       "    <tr>\n",
       "      <th>17</th>\n",
       "      <td>2.150383</td>\n",
       "      <td>y</td>\n",
       "      <td>True</td>\n",
       "    </tr>\n",
       "    <tr>\n",
       "      <th>18</th>\n",
       "      <td>0.606289</td>\n",
       "      <td>x</td>\n",
       "      <td>False</td>\n",
       "    </tr>\n",
       "    <tr>\n",
       "      <th>19</th>\n",
       "      <td>-0.026772</td>\n",
       "      <td>x</td>\n",
       "      <td>True</td>\n",
       "    </tr>\n",
       "  </tbody>\n",
       "</table>\n",
       "</div>"
      ],
      "text/plain": [
       "           n group  abool\n",
       "0  -0.712391     z  False\n",
       "1   0.753766     x  False\n",
       "2  -0.044503     z  False\n",
       "3   0.451812     y  False\n",
       "4   1.345102     z  False\n",
       "5   0.532338     y  False\n",
       "6   1.350188     z  False\n",
       "7   0.861211     x  False\n",
       "8   1.478686     z   True\n",
       "9  -1.045377     y   True\n",
       "10 -0.788989     x  False\n",
       "11 -1.261606     y  False\n",
       "12  0.562847     y   True\n",
       "13 -0.243326     y   True\n",
       "14  0.913741     y  False\n",
       "15  0.317351     x  False\n",
       "16  0.127303     z  False\n",
       "17  2.150383     y   True\n",
       "18  0.606289     x  False\n",
       "19 -0.026772     x   True"
      ]
     },
     "execution_count": 2,
     "metadata": {},
     "output_type": "execute_result"
    }
   ],
   "source": [
    "pandas_dataframe"
   ]
  },
  {
   "cell_type": "code",
   "execution_count": 3,
   "id": "84a34ae2",
   "metadata": {},
   "outputs": [],
   "source": [
    "spark = pyspark.sql.SparkSession.builder.getOrCreate()"
   ]
  },
  {
   "cell_type": "code",
   "execution_count": 8,
   "id": "61c9e8bb",
   "metadata": {},
   "outputs": [],
   "source": [
    "#Convert the pandas dataframe to a spark dataframe. \n",
    "# From this point forward, do all of your work with the spark dataframe, not the pandas dataframe.\n",
    "df = spark.createDataFrame(pandas_dataframe)"
   ]
  },
  {
   "cell_type": "code",
   "execution_count": 9,
   "id": "2e2459dd",
   "metadata": {},
   "outputs": [
    {
     "name": "stdout",
     "output_type": "stream",
     "text": [
      "+--------------------+-----+-----+\n",
      "|                   n|group|abool|\n",
      "+--------------------+-----+-----+\n",
      "|  -0.712390662050588|    z|false|\n",
      "|   0.753766378659703|    x|false|\n",
      "|-0.04450307833805...|    z|false|\n",
      "+--------------------+-----+-----+\n",
      "only showing top 3 rows\n",
      "\n"
     ]
    }
   ],
   "source": [
    "# Show the first 3 rows of the dataframe.\n",
    "df.show(3)"
   ]
  },
  {
   "cell_type": "code",
   "execution_count": 7,
   "id": "c557530f",
   "metadata": {},
   "outputs": [
    {
     "name": "stdout",
     "output_type": "stream",
     "text": [
      "+--------------------+-----+-----+\n",
      "|                   n|group|abool|\n",
      "+--------------------+-----+-----+\n",
      "|  -0.712390662050588|    z|false|\n",
      "|   0.753766378659703|    x|false|\n",
      "|-0.04450307833805...|    z|false|\n",
      "| 0.45181233874578974|    y|false|\n",
      "|  1.3451017084510097|    z|false|\n",
      "|  0.5323378882945463|    y|false|\n",
      "|  1.3501878997225267|    z|false|\n",
      "+--------------------+-----+-----+\n",
      "only showing top 7 rows\n",
      "\n"
     ]
    }
   ],
   "source": [
    "# Show the first 7 rows of the dataframe.\n",
    "df.show(7)"
   ]
  },
  {
   "cell_type": "code",
   "execution_count": 10,
   "id": "2edb7e0b",
   "metadata": {},
   "outputs": [
    {
     "data": {
      "text/plain": [
       "DataFrame[summary: string, n: string, group: string]"
      ]
     },
     "execution_count": 10,
     "metadata": {},
     "output_type": "execute_result"
    }
   ],
   "source": [
    "# View a summary of the data using .describe.\n",
    "df.describe()"
   ]
  },
  {
   "cell_type": "code",
   "execution_count": 13,
   "id": "2638c0ee",
   "metadata": {},
   "outputs": [
    {
     "name": "stdout",
     "output_type": "stream",
     "text": [
      "+--------------------+-----+\n",
      "|                   n|abool|\n",
      "+--------------------+-----+\n",
      "|  -0.712390662050588|false|\n",
      "|   0.753766378659703|false|\n",
      "|-0.04450307833805...|false|\n",
      "| 0.45181233874578974|false|\n",
      "|  1.3451017084510097|false|\n",
      "+--------------------+-----+\n",
      "only showing top 5 rows\n",
      "\n"
     ]
    }
   ],
   "source": [
    "# Use .select to create a new dataframe with just the n and abool columns. View the first 5 rows of this dataframe.\n",
    "new_df = df.select('n','abool')\n",
    "new_df.show(5)"
   ]
  },
  {
   "cell_type": "code",
   "execution_count": 14,
   "id": "dafb8edd",
   "metadata": {},
   "outputs": [
    {
     "name": "stdout",
     "output_type": "stream",
     "text": [
      "+-----+-----+\n",
      "|group|abool|\n",
      "+-----+-----+\n",
      "|    z|false|\n",
      "|    x|false|\n",
      "|    z|false|\n",
      "|    y|false|\n",
      "|    z|false|\n",
      "+-----+-----+\n",
      "only showing top 5 rows\n",
      "\n"
     ]
    }
   ],
   "source": [
    "# Use .select to create a new dataframe with just the group and abool columns. \n",
    "# View the first 5 rows of this dataframe.\n",
    "other_df = df.select('group','abool')\n",
    "other_df.show(5)"
   ]
  },
  {
   "cell_type": "code",
   "execution_count": 17,
   "id": "d5b1df24",
   "metadata": {},
   "outputs": [
    {
     "name": "stdout",
     "output_type": "stream",
     "text": [
      "+-----+---------------+\n",
      "|group|a_boolean_value|\n",
      "+-----+---------------+\n",
      "|    z|          false|\n",
      "|    x|          false|\n",
      "|    z|          false|\n",
      "+-----+---------------+\n",
      "only showing top 3 rows\n",
      "\n"
     ]
    }
   ],
   "source": [
    "# Use .select to create a new dataframe with the group column and the abool \n",
    "# column renamed to a_boolean_value. Show the first 3 rows of this dataframe.\n",
    "another_df = df.select(df.group,df.abool.alias('a_boolean_value'))\n",
    "another_df.show(3)"
   ]
  },
  {
   "cell_type": "code",
   "execution_count": 18,
   "id": "ce3d44ce",
   "metadata": {},
   "outputs": [
    {
     "name": "stdout",
     "output_type": "stream",
     "text": [
      "+-----+--------------------+\n",
      "|group|     a_numeric_value|\n",
      "+-----+--------------------+\n",
      "|    z|  -0.712390662050588|\n",
      "|    x|   0.753766378659703|\n",
      "|    z|-0.04450307833805...|\n",
      "|    y| 0.45181233874578974|\n",
      "|    z|  1.3451017084510097|\n",
      "|    y|  0.5323378882945463|\n",
      "+-----+--------------------+\n",
      "only showing top 6 rows\n",
      "\n"
     ]
    }
   ],
   "source": [
    "# Use .select to create a new dataframe with the group column and \n",
    "# the n column renamed to a_numeric_value. Show the first 6 rows of this dataframe.\n",
    "last_df = df.select(df.group,df.n.alias('a_numeric_value'))\n",
    "last_df.show(6)"
   ]
  },
  {
   "cell_type": "markdown",
   "id": "1f88011c",
   "metadata": {},
   "source": [
    "### Column Manipulation"
   ]
  },
  {
   "cell_type": "code",
   "execution_count": 19,
   "id": "d0d355f5",
   "metadata": {},
   "outputs": [
    {
     "name": "stdout",
     "output_type": "stream",
     "text": [
      "+--------------------+-----+-----+\n",
      "|                   n|group|abool|\n",
      "+--------------------+-----+-----+\n",
      "|  -0.712390662050588|    z|false|\n",
      "|   0.753766378659703|    x|false|\n",
      "|-0.04450307833805...|    z|false|\n",
      "| 0.45181233874578974|    y|false|\n",
      "|  1.3451017084510097|    z|false|\n",
      "+--------------------+-----+-----+\n",
      "only showing top 5 rows\n",
      "\n"
     ]
    }
   ],
   "source": [
    "# Use the starter code above to re-create a spark dataframe. Store the spark dataframe in a varaible named df\n",
    "df.show(5)"
   ]
  },
  {
   "cell_type": "code",
   "execution_count": 21,
   "id": "a0d9c927",
   "metadata": {},
   "outputs": [
    {
     "name": "stdout",
     "output_type": "stream",
     "text": [
      "+------------------+\n",
      "|           (n + 4)|\n",
      "+------------------+\n",
      "|3.2876093379494122|\n",
      "| 4.753766378659703|\n",
      "|3.9554969216619464|\n",
      "|  4.45181233874579|\n",
      "|5.3451017084510095|\n",
      "+------------------+\n",
      "only showing top 5 rows\n",
      "\n"
     ]
    }
   ],
   "source": [
    "# Use .select to add 4 to the n column. Show the results.\n",
    "df.select(df.n+4).show(5)"
   ]
  },
  {
   "cell_type": "code",
   "execution_count": 22,
   "id": "8e889b3d",
   "metadata": {},
   "outputs": [
    {
     "name": "stdout",
     "output_type": "stream",
     "text": [
      "+-------------------+\n",
      "|            (n - 5)|\n",
      "+-------------------+\n",
      "| -5.712390662050588|\n",
      "| -4.246233621340297|\n",
      "| -5.044503078338053|\n",
      "|  -4.54818766125421|\n",
      "|-3.6548982915489905|\n",
      "+-------------------+\n",
      "only showing top 5 rows\n",
      "\n"
     ]
    }
   ],
   "source": [
    "# Subtract 5 from the n column and view the results.\n",
    "df.select(df.n-5).show(5)"
   ]
  },
  {
   "cell_type": "code",
   "execution_count": 23,
   "id": "c9cd5645",
   "metadata": {},
   "outputs": [
    {
     "name": "stdout",
     "output_type": "stream",
     "text": [
      "+--------------------+\n",
      "|             (n * 2)|\n",
      "+--------------------+\n",
      "|  -1.424781324101176|\n",
      "|   1.507532757319406|\n",
      "|-0.08900615667610691|\n",
      "|  0.9036246774915795|\n",
      "|  2.6902034169020195|\n",
      "+--------------------+\n",
      "only showing top 5 rows\n",
      "\n"
     ]
    }
   ],
   "source": [
    "# Multiply the n column by 2. View the results along with the original numbers.\n",
    "df.select(df.n*2).show(5)"
   ]
  },
  {
   "cell_type": "code",
   "execution_count": 32,
   "id": "1ed4ff43",
   "metadata": {},
   "outputs": [
    {
     "name": "stdout",
     "output_type": "stream",
     "text": [
      "+--------------------+-----+-----+--------------------+--------------------+--------------------+--------------------+\n",
      "|                   n|group|abool|                  n2|                  n3|                   n|                  n2|\n",
      "+--------------------+-----+-----+--------------------+--------------------+--------------------+--------------------+\n",
      "|  -0.712390662050588|    z|false|   0.712390662050588|   0.507500455376875|  -0.712390662050588|   0.712390662050588|\n",
      "|   0.753766378659703|    x|false|  -0.753766378659703|  0.5681637535977627|   0.753766378659703|  -0.753766378659703|\n",
      "|-0.04450307833805...|    z|false|0.044503078338053455|0.001980523981562...|-0.04450307833805...|0.044503078338053455|\n",
      "| 0.45181233874578974|    y|false|-0.45181233874578974| 0.20413438944294027| 0.45181233874578974|-0.45181233874578974|\n",
      "+--------------------+-----+-----+--------------------+--------------------+--------------------+--------------------+\n",
      "only showing top 4 rows\n",
      "\n"
     ]
    }
   ],
   "source": [
    "# Add a new column named n2 that is the n value multiplied by -1. \n",
    "# Show the first 4 rows of your dataframe. You should see the original n value as well as n2.\n",
    "df.select('*', df.n, (df.n*-1).alias('n2')).show(4)"
   ]
  },
  {
   "cell_type": "code",
   "execution_count": 28,
   "id": "c27cb260",
   "metadata": {},
   "outputs": [
    {
     "name": "stdout",
     "output_type": "stream",
     "text": [
      "+--------------------+-----+-----+--------------------+\n",
      "|                   n|group|abool|                  n2|\n",
      "+--------------------+-----+-----+--------------------+\n",
      "|  -0.712390662050588|    z|false|   0.712390662050588|\n",
      "|   0.753766378659703|    x|false|  -0.753766378659703|\n",
      "|-0.04450307833805...|    z|false|0.044503078338053455|\n",
      "| 0.45181233874578974|    y|false|-0.45181233874578974|\n",
      "+--------------------+-----+-----+--------------------+\n",
      "only showing top 4 rows\n",
      "\n"
     ]
    }
   ],
   "source": [
    "# Add a new column named n3 that is the n value squared. \n",
    "# Show the first 5 rows of your dataframe. You should see both n, n2, and n3.\n",
    "df = df.select('*', (df.n * -1).alias('n2'))\n",
    "df.show(4)"
   ]
  },
  {
   "cell_type": "code",
   "execution_count": 29,
   "id": "f48f5744",
   "metadata": {},
   "outputs": [
    {
     "name": "stdout",
     "output_type": "stream",
     "text": [
      "+--------------------+-----+-----+--------------------+--------------------+\n",
      "|                   n|group|abool|                  n2|                  n3|\n",
      "+--------------------+-----+-----+--------------------+--------------------+\n",
      "|  -0.712390662050588|    z|false|   0.712390662050588|   0.507500455376875|\n",
      "|   0.753766378659703|    x|false|  -0.753766378659703|  0.5681637535977627|\n",
      "|-0.04450307833805...|    z|false|0.044503078338053455|0.001980523981562...|\n",
      "| 0.45181233874578974|    y|false|-0.45181233874578974| 0.20413438944294027|\n",
      "|  1.3451017084510097|    z|false| -1.3451017084510097|  1.8092986060778251|\n",
      "+--------------------+-----+-----+--------------------+--------------------+\n",
      "only showing top 5 rows\n",
      "\n"
     ]
    }
   ],
   "source": [
    "# Add a new column named n3 that is the n value squared. \n",
    "# Show the first 5 rows of your dataframe. You should see both n, n2, and n3.\n",
    "df = df.select('*', (df.n * df.n).alias('n3'))\n",
    "df.show(5)"
   ]
  },
  {
   "cell_type": "code",
   "execution_count": 33,
   "id": "ff84e292",
   "metadata": {},
   "outputs": [
    {
     "data": {
      "text/plain": [
       "Column<'(group + abool)'>"
      ]
     },
     "execution_count": 33,
     "metadata": {},
     "output_type": "execute_result"
    }
   ],
   "source": [
    "# What happens when you run the code below?\n",
    "df.group + df.abool"
   ]
  },
  {
   "cell_type": "markdown",
   "id": "0e5275de",
   "metadata": {},
   "source": [
    "A Column object is produced that represents the transformation of adding together the group and abool columns."
   ]
  },
  {
   "cell_type": "code",
   "execution_count": 34,
   "id": "a80cd7d4",
   "metadata": {},
   "outputs": [
    {
     "ename": "AnalysisException",
     "evalue": "cannot resolve '(CAST(group AS DOUBLE) + abool)' due to data type mismatch: differing types in '(CAST(group AS DOUBLE) + abool)' (double and boolean).;\n'Project [unresolvedalias((cast(group#33 as double) + abool#34), Some(org.apache.spark.sql.Column$$Lambda$3209/0x0000000801386840@71f872e9))]\n+- Project [n#32, group#33, abool#34, n2#366, (n#32 * n#32) AS n3#388]\n   +- Project [n#32, group#33, abool#34, (n#32 * cast(-1 as double)) AS n2#366]\n      +- LogicalRDD [n#32, group#33, abool#34], false\n",
     "output_type": "error",
     "traceback": [
      "\u001b[0;31m-------------------------------------------------------------\u001b[0m",
      "\u001b[0;31mAnalysisException\u001b[0m           Traceback (most recent call last)",
      "\u001b[0;32m<ipython-input-34-eacd76a7483d>\u001b[0m in \u001b[0;36m<module>\u001b[0;34m\u001b[0m\n\u001b[1;32m      1\u001b[0m \u001b[0;31m# What happens when you run the code below? What is the difference between this and the previous code sample?\u001b[0m\u001b[0;34m\u001b[0m\u001b[0;34m\u001b[0m\u001b[0;34m\u001b[0m\u001b[0m\n\u001b[0;32m----> 2\u001b[0;31m \u001b[0mdf\u001b[0m\u001b[0;34m.\u001b[0m\u001b[0mselect\u001b[0m\u001b[0;34m(\u001b[0m\u001b[0mdf\u001b[0m\u001b[0;34m.\u001b[0m\u001b[0mgroup\u001b[0m \u001b[0;34m+\u001b[0m \u001b[0mdf\u001b[0m\u001b[0;34m.\u001b[0m\u001b[0mabool\u001b[0m\u001b[0;34m)\u001b[0m\u001b[0;34m\u001b[0m\u001b[0;34m\u001b[0m\u001b[0m\n\u001b[0m",
      "\u001b[0;32m/opt/homebrew/anaconda3/lib/python3.8/site-packages/pyspark/sql/dataframe.py\u001b[0m in \u001b[0;36mselect\u001b[0;34m(self, *cols)\u001b[0m\n\u001b[1;32m   1683\u001b[0m         \u001b[0;34m[\u001b[0m\u001b[0mRow\u001b[0m\u001b[0;34m(\u001b[0m\u001b[0mname\u001b[0m\u001b[0;34m=\u001b[0m\u001b[0;34m'Alice'\u001b[0m\u001b[0;34m,\u001b[0m \u001b[0mage\u001b[0m\u001b[0;34m=\u001b[0m\u001b[0;36m12\u001b[0m\u001b[0;34m)\u001b[0m\u001b[0;34m,\u001b[0m \u001b[0mRow\u001b[0m\u001b[0;34m(\u001b[0m\u001b[0mname\u001b[0m\u001b[0;34m=\u001b[0m\u001b[0;34m'Bob'\u001b[0m\u001b[0;34m,\u001b[0m \u001b[0mage\u001b[0m\u001b[0;34m=\u001b[0m\u001b[0;36m15\u001b[0m\u001b[0;34m)\u001b[0m\u001b[0;34m]\u001b[0m\u001b[0;34m\u001b[0m\u001b[0;34m\u001b[0m\u001b[0m\n\u001b[1;32m   1684\u001b[0m         \"\"\"\n\u001b[0;32m-> 1685\u001b[0;31m         \u001b[0mjdf\u001b[0m \u001b[0;34m=\u001b[0m \u001b[0mself\u001b[0m\u001b[0;34m.\u001b[0m\u001b[0m_jdf\u001b[0m\u001b[0;34m.\u001b[0m\u001b[0mselect\u001b[0m\u001b[0;34m(\u001b[0m\u001b[0mself\u001b[0m\u001b[0;34m.\u001b[0m\u001b[0m_jcols\u001b[0m\u001b[0;34m(\u001b[0m\u001b[0;34m*\u001b[0m\u001b[0mcols\u001b[0m\u001b[0;34m)\u001b[0m\u001b[0;34m)\u001b[0m\u001b[0;34m\u001b[0m\u001b[0;34m\u001b[0m\u001b[0m\n\u001b[0m\u001b[1;32m   1686\u001b[0m         \u001b[0;32mreturn\u001b[0m \u001b[0mDataFrame\u001b[0m\u001b[0;34m(\u001b[0m\u001b[0mjdf\u001b[0m\u001b[0;34m,\u001b[0m \u001b[0mself\u001b[0m\u001b[0;34m.\u001b[0m\u001b[0msql_ctx\u001b[0m\u001b[0;34m)\u001b[0m\u001b[0;34m\u001b[0m\u001b[0;34m\u001b[0m\u001b[0m\n\u001b[1;32m   1687\u001b[0m \u001b[0;34m\u001b[0m\u001b[0m\n",
      "\u001b[0;32m/opt/homebrew/anaconda3/lib/python3.8/site-packages/py4j/java_gateway.py\u001b[0m in \u001b[0;36m__call__\u001b[0;34m(self, *args)\u001b[0m\n\u001b[1;32m   1307\u001b[0m \u001b[0;34m\u001b[0m\u001b[0m\n\u001b[1;32m   1308\u001b[0m         \u001b[0manswer\u001b[0m \u001b[0;34m=\u001b[0m \u001b[0mself\u001b[0m\u001b[0;34m.\u001b[0m\u001b[0mgateway_client\u001b[0m\u001b[0;34m.\u001b[0m\u001b[0msend_command\u001b[0m\u001b[0;34m(\u001b[0m\u001b[0mcommand\u001b[0m\u001b[0;34m)\u001b[0m\u001b[0;34m\u001b[0m\u001b[0;34m\u001b[0m\u001b[0m\n\u001b[0;32m-> 1309\u001b[0;31m         return_value = get_return_value(\n\u001b[0m\u001b[1;32m   1310\u001b[0m             answer, self.gateway_client, self.target_id, self.name)\n\u001b[1;32m   1311\u001b[0m \u001b[0;34m\u001b[0m\u001b[0m\n",
      "\u001b[0;32m/opt/homebrew/anaconda3/lib/python3.8/site-packages/pyspark/sql/utils.py\u001b[0m in \u001b[0;36mdeco\u001b[0;34m(*a, **kw)\u001b[0m\n\u001b[1;32m    115\u001b[0m                 \u001b[0;31m# Hide where the exception came from that shows a non-Pythonic\u001b[0m\u001b[0;34m\u001b[0m\u001b[0;34m\u001b[0m\u001b[0;34m\u001b[0m\u001b[0m\n\u001b[1;32m    116\u001b[0m                 \u001b[0;31m# JVM exception message.\u001b[0m\u001b[0;34m\u001b[0m\u001b[0;34m\u001b[0m\u001b[0;34m\u001b[0m\u001b[0m\n\u001b[0;32m--> 117\u001b[0;31m                 \u001b[0;32mraise\u001b[0m \u001b[0mconverted\u001b[0m \u001b[0;32mfrom\u001b[0m \u001b[0;32mNone\u001b[0m\u001b[0;34m\u001b[0m\u001b[0;34m\u001b[0m\u001b[0m\n\u001b[0m\u001b[1;32m    118\u001b[0m             \u001b[0;32melse\u001b[0m\u001b[0;34m:\u001b[0m\u001b[0;34m\u001b[0m\u001b[0;34m\u001b[0m\u001b[0m\n\u001b[1;32m    119\u001b[0m                 \u001b[0;32mraise\u001b[0m\u001b[0;34m\u001b[0m\u001b[0;34m\u001b[0m\u001b[0m\n",
      "\u001b[0;31mAnalysisException\u001b[0m: cannot resolve '(CAST(group AS DOUBLE) + abool)' due to data type mismatch: differing types in '(CAST(group AS DOUBLE) + abool)' (double and boolean).;\n'Project [unresolvedalias((cast(group#33 as double) + abool#34), Some(org.apache.spark.sql.Column$$Lambda$3209/0x0000000801386840@71f872e9))]\n+- Project [n#32, group#33, abool#34, n2#366, (n#32 * n#32) AS n3#388]\n   +- Project [n#32, group#33, abool#34, (n#32 * cast(-1 as double)) AS n2#366]\n      +- LogicalRDD [n#32, group#33, abool#34], false\n"
     ]
    }
   ],
   "source": [
    "# What happens when you run the code below? What is the difference between this and the previous code sample?\n",
    "df.select(df.group + df.abool)"
   ]
  },
  {
   "cell_type": "markdown",
   "id": "dad63387",
   "metadata": {},
   "source": [
    "An error is produced referencing the incompatible types. Unlike the previous code sample, this one is done within the context of a .select, so even though there are still no values produced (we haven't invoked an action yet), spark is aware that the types are incompatible."
   ]
  },
  {
   "cell_type": "code",
   "execution_count": 40,
   "id": "43550b64",
   "metadata": {},
   "outputs": [
    {
     "name": "stdout",
     "output_type": "stream",
     "text": [
      "+--------------------+\n",
      "|           (n2 + n3)|\n",
      "+--------------------+\n",
      "|   1.219891117427463|\n",
      "|-0.18560262506194025|\n",
      "|0.046483602319616374|\n",
      "|-0.24767794930284948|\n",
      "|  0.4641968976268154|\n",
      "+--------------------+\n",
      "only showing top 5 rows\n",
      "\n"
     ]
    }
   ],
   "source": [
    "# Try adding various other columns together. \n",
    "# What are the results of combining the different data types?\n",
    "col = df.n2 + df.n3\n",
    "df.select(col).show(5)"
   ]
  },
  {
   "cell_type": "markdown",
   "id": "37366db0",
   "metadata": {},
   "source": [
    "### Type casting"
   ]
  },
  {
   "cell_type": "code",
   "execution_count": 41,
   "id": "01f12d77",
   "metadata": {},
   "outputs": [],
   "source": [
    "# Use the starter code above to re-create a spark dataframe.\n",
    "df = spark.createDataFrame(pandas_dataframe)\n",
    "df.show(5)"
   ]
  },
  {
   "cell_type": "code",
   "execution_count": 43,
   "id": "446009d7",
   "metadata": {},
   "outputs": [
    {
     "name": "stdout",
     "output_type": "stream",
     "text": [
      "root\n",
      " |-- n: double (nullable = true)\n",
      " |-- group: string (nullable = true)\n",
      " |-- abool: boolean (nullable = true)\n",
      "\n"
     ]
    }
   ],
   "source": [
    "# Use .printSchema to view the datatypes in your dataframe.\n",
    "df.printSchema()"
   ]
  },
  {
   "cell_type": "code",
   "execution_count": 44,
   "id": "e98c4531",
   "metadata": {},
   "outputs": [
    {
     "data": {
      "text/plain": [
       "[('n', 'double'), ('group', 'string'), ('abool', 'boolean')]"
      ]
     },
     "execution_count": 44,
     "metadata": {},
     "output_type": "execute_result"
    }
   ],
   "source": [
    "# Use .dtypes to view the datatypes in your dataframe.\n",
    "df.dtypes"
   ]
  },
  {
   "cell_type": "code",
   "execution_count": 45,
   "id": "7961b4ed",
   "metadata": {},
   "outputs": [
    {
     "data": {
      "text/plain": [
       "Column<'CAST(abool AS INT)'>"
      ]
     },
     "execution_count": 45,
     "metadata": {},
     "output_type": "execute_result"
    }
   ],
   "source": [
    "# What is the difference between the two code samples below?\n",
    "df.abool.cast('int')"
   ]
  },
  {
   "cell_type": "code",
   "execution_count": 46,
   "id": "7fec9037",
   "metadata": {},
   "outputs": [
    {
     "name": "stdout",
     "output_type": "stream",
     "text": [
      "+-----+\n",
      "|abool|\n",
      "+-----+\n",
      "|    0|\n",
      "|    0|\n",
      "|    0|\n",
      "|    0|\n",
      "|    0|\n",
      "|    0|\n",
      "|    0|\n",
      "|    0|\n",
      "|    1|\n",
      "|    1|\n",
      "|    0|\n",
      "|    0|\n",
      "|    1|\n",
      "|    1|\n",
      "|    0|\n",
      "|    0|\n",
      "|    0|\n",
      "|    1|\n",
      "|    0|\n",
      "|    1|\n",
      "+-----+\n",
      "\n"
     ]
    }
   ],
   "source": [
    "df.select(df.abool.cast('int')).show()"
   ]
  },
  {
   "cell_type": "markdown",
   "id": "c6f1a04e",
   "metadata": {},
   "source": [
    "One is a creating a Column and one is using that same column in a .select in order to view the results of the cast."
   ]
  },
  {
   "cell_type": "code",
   "execution_count": 47,
   "id": "189070a9",
   "metadata": {},
   "outputs": [
    {
     "name": "stdout",
     "output_type": "stream",
     "text": [
      "+-----+-----+\n",
      "|abool|abool|\n",
      "+-----+-----+\n",
      "|false|    0|\n",
      "|false|    0|\n",
      "|false|    0|\n",
      "|false|    0|\n",
      "|false|    0|\n",
      "|false|    0|\n",
      "|false|    0|\n",
      "|false|    0|\n",
      "| true|    1|\n",
      "| true|    1|\n",
      "|false|    0|\n",
      "|false|    0|\n",
      "| true|    1|\n",
      "| true|    1|\n",
      "|false|    0|\n",
      "|false|    0|\n",
      "|false|    0|\n",
      "| true|    1|\n",
      "|false|    0|\n",
      "| true|    1|\n",
      "+-----+-----+\n",
      "\n"
     ]
    }
   ],
   "source": [
    "# Use .select and .cast to convert the abool column to an integer type. \n",
    "# View the results.\n",
    "df.select('abool', df.abool.cast('int')).show()"
   ]
  },
  {
   "cell_type": "code",
   "execution_count": 49,
   "id": "9702ccf9",
   "metadata": {},
   "outputs": [
    {
     "name": "stdout",
     "output_type": "stream",
     "text": [
      "+-----+-----+\n",
      "|group|group|\n",
      "+-----+-----+\n",
      "|    z| null|\n",
      "|    x| null|\n",
      "|    z| null|\n",
      "|    y| null|\n",
      "|    z| null|\n",
      "|    y| null|\n",
      "|    z| null|\n",
      "|    x| null|\n",
      "|    z| null|\n",
      "|    y| null|\n",
      "|    x| null|\n",
      "|    y| null|\n",
      "|    y| null|\n",
      "|    y| null|\n",
      "|    y| null|\n",
      "|    x| null|\n",
      "|    z| null|\n",
      "|    y| null|\n",
      "|    x| null|\n",
      "|    x| null|\n",
      "+-----+-----+\n",
      "\n"
     ]
    }
   ],
   "source": [
    "# Convert the group column to a integer data type and view the results. \n",
    "# What happens?\n",
    "df.select('group', df.group.cast('int')).show()"
   ]
  },
  {
   "cell_type": "markdown",
   "id": "55d548c5",
   "metadata": {},
   "source": [
    "The values are converted to nulls."
   ]
  },
  {
   "cell_type": "code",
   "execution_count": 51,
   "id": "d42d1812",
   "metadata": {},
   "outputs": [
    {
     "name": "stdout",
     "output_type": "stream",
     "text": [
      "+--------------------+---+\n",
      "|                   n|  n|\n",
      "+--------------------+---+\n",
      "|  -0.712390662050588|  0|\n",
      "|   0.753766378659703|  0|\n",
      "|-0.04450307833805...|  0|\n",
      "| 0.45181233874578974|  0|\n",
      "|  1.3451017084510097|  1|\n",
      "|  0.5323378882945463|  0|\n",
      "|  1.3501878997225267|  1|\n",
      "|  0.8612113741693206|  0|\n",
      "|  1.4786857374358966|  1|\n",
      "| -1.0453771305385342| -1|\n",
      "| -0.7889890249515489|  0|\n",
      "|  -1.261605945319069| -1|\n",
      "|  0.5628467852810314|  0|\n",
      "|-0.24332625188556253|  0|\n",
      "|  0.9137407048596775|  0|\n",
      "| 0.31735092273633597|  0|\n",
      "| 0.12730328020698067|  0|\n",
      "|  2.1503829673811126|  2|\n",
      "|  0.6062886568962988|  0|\n",
      "|-0.02677164998644...|  0|\n",
      "+--------------------+---+\n",
      "\n"
     ]
    }
   ],
   "source": [
    "# Convert the n column to a integer data type and view the results. \n",
    "# What happens?\n",
    "df.select('n', df.n.cast('int')).show()"
   ]
  },
  {
   "cell_type": "code",
   "execution_count": 52,
   "id": "4c0a2ac1",
   "metadata": {},
   "outputs": [
    {
     "name": "stdout",
     "output_type": "stream",
     "text": [
      "+-----+-----+\n",
      "|abool|abool|\n",
      "+-----+-----+\n",
      "|false|false|\n",
      "|false|false|\n",
      "|false|false|\n",
      "|false|false|\n",
      "|false|false|\n",
      "|false|false|\n",
      "|false|false|\n",
      "|false|false|\n",
      "| true| true|\n",
      "| true| true|\n",
      "|false|false|\n",
      "|false|false|\n",
      "| true| true|\n",
      "| true| true|\n",
      "|false|false|\n",
      "|false|false|\n",
      "|false|false|\n",
      "| true| true|\n",
      "|false|false|\n",
      "| true| true|\n",
      "+-----+-----+\n",
      "\n"
     ]
    }
   ],
   "source": [
    "# Convert the abool column to a string data type and view the results. \n",
    "# What happens?\n",
    "df.select('abool', df.abool.cast('string')).show()"
   ]
  },
  {
   "cell_type": "markdown",
   "id": "faa5f44f",
   "metadata": {},
   "source": [
    "### Built-in Functions"
   ]
  },
  {
   "cell_type": "code",
   "execution_count": 53,
   "id": "d7c8368a",
   "metadata": {},
   "outputs": [
    {
     "name": "stdout",
     "output_type": "stream",
     "text": [
      "+--------------------+-----+-----+\n",
      "|                   n|group|abool|\n",
      "+--------------------+-----+-----+\n",
      "|  -0.712390662050588|    z|false|\n",
      "|   0.753766378659703|    x|false|\n",
      "|-0.04450307833805...|    z|false|\n",
      "| 0.45181233874578974|    y|false|\n",
      "|  1.3451017084510097|    z|false|\n",
      "+--------------------+-----+-----+\n",
      "only showing top 5 rows\n",
      "\n"
     ]
    }
   ],
   "source": [
    "# Use the starter code above to re-create a spark dataframe.\n",
    "df = spark.createDataFrame(pandas_dataframe)\n",
    "df.show(5)"
   ]
  },
  {
   "cell_type": "code",
   "execution_count": 54,
   "id": "1d1c4036",
   "metadata": {},
   "outputs": [],
   "source": [
    "# Import the necessary functions from pyspark.sql.functions\n",
    "from pyspark.sql.functions import min, max, mean, lit, concat"
   ]
  },
  {
   "cell_type": "code",
   "execution_count": 55,
   "id": "64ee71b8",
   "metadata": {},
   "outputs": [
    {
     "name": "stdout",
     "output_type": "stream",
     "text": [
      "+------------------+------------------+------------------+\n",
      "|            max(n)|            min(n)|            avg(n)|\n",
      "+------------------+------------------+------------------+\n",
      "|2.1503829673811126|-1.261605945319069|0.3664026449885217|\n",
      "+------------------+------------------+------------------+\n",
      "\n"
     ]
    }
   ],
   "source": [
    "# Find the highest n value.\n",
    "# Find the lowest n value.\n",
    "# Find the average n value.\n",
    "df.select(max('n'), min('n'), mean('n')).show()"
   ]
  },
  {
   "cell_type": "code",
   "execution_count": 62,
   "id": "60e4f0f7",
   "metadata": {},
   "outputs": [
    {
     "name": "stdout",
     "output_type": "stream",
     "text": [
      "+----------------------+\n",
      "|concat(Group: , group)|\n",
      "+----------------------+\n",
      "|              Group: z|\n",
      "|              Group: x|\n",
      "|              Group: z|\n",
      "|              Group: y|\n",
      "|              Group: z|\n",
      "+----------------------+\n",
      "only showing top 5 rows\n",
      "\n"
     ]
    }
   ],
   "source": [
    "# Use concat to change the group column to say, \n",
    "# e.g. \"Group: x\" or \"Group: y\"\n",
    "df.select(concat(lit('Group: '), 'group')).show(5)"
   ]
  },
  {
   "cell_type": "code",
   "execution_count": 63,
   "id": "cdf432d4",
   "metadata": {},
   "outputs": [
    {
     "name": "stdout",
     "output_type": "stream",
     "text": [
      "+--------------------+\n",
      "|concat(group, : , n)|\n",
      "+--------------------+\n",
      "|z: -0.71239066205...|\n",
      "|x: 0.753766378659703|\n",
      "|z: -0.04450307833...|\n",
      "|y: 0.451812338745...|\n",
      "|z: 1.345101708451...|\n",
      "|y: 0.532337888294...|\n",
      "|z: 1.350187899722...|\n",
      "|x: 0.861211374169...|\n",
      "|z: 1.478685737435...|\n",
      "|y: -1.04537713053...|\n",
      "|x: -0.78898902495...|\n",
      "|y: -1.26160594531...|\n",
      "|y: 0.562846785281...|\n",
      "|y: -0.24332625188...|\n",
      "|y: 0.913740704859...|\n",
      "|x: 0.317350922736...|\n",
      "|z: 0.127303280206...|\n",
      "|y: 2.150382967381...|\n",
      "|x: 0.606288656896...|\n",
      "|x: -0.02677164998...|\n",
      "+--------------------+\n",
      "\n"
     ]
    }
   ],
   "source": [
    "# Use concat to combine the n and group columns to produce \n",
    "# results that look like this: \"x: -1.432\" or \"z: 2.352\"\n",
    "df.select(concat('group', lit(': '), 'n')).show()"
   ]
  },
  {
   "cell_type": "markdown",
   "id": "3d157c8a",
   "metadata": {},
   "source": [
    "### When/Otherwise"
   ]
  },
  {
   "cell_type": "code",
   "execution_count": 66,
   "id": "74b935b9",
   "metadata": {},
   "outputs": [],
   "source": [
    "from pyspark.sql.functions import when"
   ]
  },
  {
   "cell_type": "code",
   "execution_count": 67,
   "id": "dc5c89f7",
   "metadata": {},
   "outputs": [
    {
     "name": "stdout",
     "output_type": "stream",
     "text": [
      "+--------------------+-----+-----+\n",
      "|                   n|group|abool|\n",
      "+--------------------+-----+-----+\n",
      "|  -0.712390662050588|    z|false|\n",
      "|   0.753766378659703|    x|false|\n",
      "|-0.04450307833805...|    z|false|\n",
      "| 0.45181233874578974|    y|false|\n",
      "|  1.3451017084510097|    z|false|\n",
      "+--------------------+-----+-----+\n",
      "only showing top 5 rows\n",
      "\n"
     ]
    }
   ],
   "source": [
    "# Use the starter code above to re-create a spark dataframe.\n",
    "df = spark.createDataFrame(pandas_dataframe)\n",
    "df.show(5)"
   ]
  },
  {
   "cell_type": "code",
   "execution_count": 68,
   "id": "4d133798",
   "metadata": {},
   "outputs": [
    {
     "name": "stdout",
     "output_type": "stream",
     "text": [
      "+----------------------------------------------------+\n",
      "|CASE WHEN abool THEN It is true ELSE It is false END|\n",
      "+----------------------------------------------------+\n",
      "|                                         It is false|\n",
      "|                                         It is false|\n",
      "|                                         It is false|\n",
      "|                                         It is false|\n",
      "|                                         It is false|\n",
      "|                                         It is false|\n",
      "|                                         It is false|\n",
      "|                                         It is false|\n",
      "|                                          It is true|\n",
      "|                                          It is true|\n",
      "|                                         It is false|\n",
      "|                                         It is false|\n",
      "|                                          It is true|\n",
      "|                                          It is true|\n",
      "|                                         It is false|\n",
      "|                                         It is false|\n",
      "|                                         It is false|\n",
      "|                                          It is true|\n",
      "|                                         It is false|\n",
      "|                                          It is true|\n",
      "+----------------------------------------------------+\n",
      "\n"
     ]
    }
   ],
   "source": [
    "# Use when and .otherwise to create a column that contains the text \"It is true\" \n",
    "# when abool is true and \"It is false\"\" when abool is false.\n",
    "df.select(when(df.abool, 'It is true').otherwise('It is false')).show()"
   ]
  },
  {
   "cell_type": "code",
   "execution_count": 69,
   "id": "52ab39fa",
   "metadata": {},
   "outputs": [
    {
     "name": "stdout",
     "output_type": "stream",
     "text": [
      "+--------------------+-----------------------------------+\n",
      "|                   n|CASE WHEN (n < 0) THEN 0 ELSE n END|\n",
      "+--------------------+-----------------------------------+\n",
      "|  -0.712390662050588|                                0.0|\n",
      "|   0.753766378659703|                  0.753766378659703|\n",
      "|-0.04450307833805...|                                0.0|\n",
      "| 0.45181233874578974|                0.45181233874578974|\n",
      "|  1.3451017084510097|                 1.3451017084510097|\n",
      "|  0.5323378882945463|                 0.5323378882945463|\n",
      "|  1.3501878997225267|                 1.3501878997225267|\n",
      "|  0.8612113741693206|                 0.8612113741693206|\n",
      "|  1.4786857374358966|                 1.4786857374358966|\n",
      "| -1.0453771305385342|                                0.0|\n",
      "| -0.7889890249515489|                                0.0|\n",
      "|  -1.261605945319069|                                0.0|\n",
      "|  0.5628467852810314|                 0.5628467852810314|\n",
      "|-0.24332625188556253|                                0.0|\n",
      "|  0.9137407048596775|                 0.9137407048596775|\n",
      "| 0.31735092273633597|                0.31735092273633597|\n",
      "| 0.12730328020698067|                0.12730328020698067|\n",
      "|  2.1503829673811126|                 2.1503829673811126|\n",
      "|  0.6062886568962988|                 0.6062886568962988|\n",
      "|-0.02677164998644...|                                0.0|\n",
      "+--------------------+-----------------------------------+\n",
      "\n"
     ]
    }
   ],
   "source": [
    "# Create a column that contains 0 if n is less than 0, otherwise, the original n value.\n",
    "df.select('n', when(df.n < 0, 0).otherwise(df.n)).show()"
   ]
  },
  {
   "cell_type": "markdown",
   "id": "8961f7ab",
   "metadata": {},
   "source": [
    "### Filter / Where"
   ]
  },
  {
   "cell_type": "code",
   "execution_count": 71,
   "id": "cb9091da",
   "metadata": {},
   "outputs": [
    {
     "name": "stdout",
     "output_type": "stream",
     "text": [
      "+--------------------+-----+-----+\n",
      "|                   n|group|abool|\n",
      "+--------------------+-----+-----+\n",
      "|  -0.712390662050588|    z|false|\n",
      "|   0.753766378659703|    x|false|\n",
      "|-0.04450307833805...|    z|false|\n",
      "| 0.45181233874578974|    y|false|\n",
      "|  1.3451017084510097|    z|false|\n",
      "+--------------------+-----+-----+\n",
      "only showing top 5 rows\n",
      "\n"
     ]
    }
   ],
   "source": [
    "# Use the starter code above to re-create a spark dataframe.\n",
    "df = spark.createDataFrame(pandas_dataframe)\n",
    "df.show(5)"
   ]
  },
  {
   "cell_type": "code",
   "execution_count": 73,
   "id": "03202d21",
   "metadata": {},
   "outputs": [
    {
     "name": "stdout",
     "output_type": "stream",
     "text": [
      "+--------------------+-----+-----+\n",
      "|                   n|group|abool|\n",
      "+--------------------+-----+-----+\n",
      "| 0.45181233874578974|    y|false|\n",
      "|  0.5323378882945463|    y|false|\n",
      "| -1.0453771305385342|    y| true|\n",
      "|  -1.261605945319069|    y|false|\n",
      "|  0.5628467852810314|    y| true|\n",
      "|-0.24332625188556253|    y| true|\n",
      "|  0.9137407048596775|    y|false|\n",
      "|  2.1503829673811126|    y| true|\n",
      "+--------------------+-----+-----+\n",
      "\n"
     ]
    }
   ],
   "source": [
    "# Use .filter or .where to select just the rows where the group is y and view the results.\n",
    "df.filter(df.group == 'y').show()"
   ]
  },
  {
   "cell_type": "code",
   "execution_count": 74,
   "id": "312be343",
   "metadata": {},
   "outputs": [
    {
     "name": "stdout",
     "output_type": "stream",
     "text": [
      "+--------------------+-----+-----+\n",
      "|                   n|group|abool|\n",
      "+--------------------+-----+-----+\n",
      "|  -0.712390662050588|    z|false|\n",
      "|   0.753766378659703|    x|false|\n",
      "|-0.04450307833805...|    z|false|\n",
      "| 0.45181233874578974|    y|false|\n",
      "|  1.3451017084510097|    z|false|\n",
      "|  0.5323378882945463|    y|false|\n",
      "|  1.3501878997225267|    z|false|\n",
      "|  0.8612113741693206|    x|false|\n",
      "| -0.7889890249515489|    x|false|\n",
      "|  -1.261605945319069|    y|false|\n",
      "|  0.9137407048596775|    y|false|\n",
      "| 0.31735092273633597|    x|false|\n",
      "| 0.12730328020698067|    z|false|\n",
      "|  0.6062886568962988|    x|false|\n",
      "+--------------------+-----+-----+\n",
      "\n"
     ]
    }
   ],
   "source": [
    "# Select just the columns where the abool column is false and view the results.\n",
    "df.filter(~ df.abool).show()"
   ]
  },
  {
   "cell_type": "code",
   "execution_count": 75,
   "id": "add6a44b",
   "metadata": {},
   "outputs": [
    {
     "name": "stdout",
     "output_type": "stream",
     "text": [
      "+--------------------+-----+-----+\n",
      "|                   n|group|abool|\n",
      "+--------------------+-----+-----+\n",
      "|  -0.712390662050588|    z|false|\n",
      "|   0.753766378659703|    x|false|\n",
      "|-0.04450307833805...|    z|false|\n",
      "|  1.3451017084510097|    z|false|\n",
      "|  1.3501878997225267|    z|false|\n",
      "|  0.8612113741693206|    x|false|\n",
      "|  1.4786857374358966|    z| true|\n",
      "| -0.7889890249515489|    x|false|\n",
      "| 0.31735092273633597|    x|false|\n",
      "| 0.12730328020698067|    z|false|\n",
      "|  0.6062886568962988|    x|false|\n",
      "|-0.02677164998644...|    x| true|\n",
      "+--------------------+-----+-----+\n",
      "\n"
     ]
    }
   ],
   "source": [
    "# Find the columns where the group column is not y.\n",
    "df.filter(df.group != 'y').show()"
   ]
  },
  {
   "cell_type": "code",
   "execution_count": 77,
   "id": "535b0a6e",
   "metadata": {},
   "outputs": [
    {
     "name": "stdout",
     "output_type": "stream",
     "text": [
      "+-------------------+-----+-----+\n",
      "|                  n|group|abool|\n",
      "+-------------------+-----+-----+\n",
      "|  0.753766378659703|    x|false|\n",
      "|0.45181233874578974|    y|false|\n",
      "| 1.3451017084510097|    z|false|\n",
      "| 0.5323378882945463|    y|false|\n",
      "| 1.3501878997225267|    z|false|\n",
      "| 0.8612113741693206|    x|false|\n",
      "| 1.4786857374358966|    z| true|\n",
      "| 0.5628467852810314|    y| true|\n",
      "| 0.9137407048596775|    y|false|\n",
      "|0.31735092273633597|    x|false|\n",
      "|0.12730328020698067|    z|false|\n",
      "| 2.1503829673811126|    y| true|\n",
      "| 0.6062886568962988|    x|false|\n",
      "+-------------------+-----+-----+\n",
      "\n"
     ]
    }
   ],
   "source": [
    "# Find the columns where n is positive.\n",
    "df.filter(df.n > 0).show()"
   ]
  },
  {
   "cell_type": "code",
   "execution_count": 78,
   "id": "86b0a1a1",
   "metadata": {},
   "outputs": [
    {
     "name": "stdout",
     "output_type": "stream",
     "text": [
      "+------------------+-----+-----+\n",
      "|                 n|group|abool|\n",
      "+------------------+-----+-----+\n",
      "|1.4786857374358966|    z| true|\n",
      "+------------------+-----+-----+\n",
      "\n"
     ]
    }
   ],
   "source": [
    "# Find the columns where abool is true and the group column is z.\n",
    "df.filter(df.abool & (df.group == 'z')).show()"
   ]
  },
  {
   "cell_type": "code",
   "execution_count": 79,
   "id": "198e0078",
   "metadata": {},
   "outputs": [
    {
     "name": "stdout",
     "output_type": "stream",
     "text": [
      "+--------------------+-----+-----+\n",
      "|                   n|group|abool|\n",
      "+--------------------+-----+-----+\n",
      "|  -0.712390662050588|    z|false|\n",
      "|-0.04450307833805...|    z|false|\n",
      "|  1.3451017084510097|    z|false|\n",
      "|  1.3501878997225267|    z|false|\n",
      "|  1.4786857374358966|    z| true|\n",
      "| -1.0453771305385342|    y| true|\n",
      "|  0.5628467852810314|    y| true|\n",
      "|-0.24332625188556253|    y| true|\n",
      "| 0.12730328020698067|    z|false|\n",
      "|  2.1503829673811126|    y| true|\n",
      "|-0.02677164998644...|    x| true|\n",
      "+--------------------+-----+-----+\n",
      "\n"
     ]
    }
   ],
   "source": [
    "# Find the columns where abool is true or the group column is z.\n",
    "df.filter(df.abool | (df.group == 'z')).show()"
   ]
  },
  {
   "cell_type": "code",
   "execution_count": 80,
   "id": "3128926a",
   "metadata": {},
   "outputs": [
    {
     "name": "stdout",
     "output_type": "stream",
     "text": [
      "+--------------------+-----+-----+\n",
      "|                   n|group|abool|\n",
      "+--------------------+-----+-----+\n",
      "|  -0.712390662050588|    z|false|\n",
      "|   0.753766378659703|    x|false|\n",
      "|-0.04450307833805...|    z|false|\n",
      "| 0.45181233874578974|    y|false|\n",
      "|  0.5323378882945463|    y|false|\n",
      "|  0.8612113741693206|    x|false|\n",
      "| -0.7889890249515489|    x|false|\n",
      "|  -1.261605945319069|    y|false|\n",
      "|  0.9137407048596775|    y|false|\n",
      "| 0.31735092273633597|    x|false|\n",
      "| 0.12730328020698067|    z|false|\n",
      "|  0.6062886568962988|    x|false|\n",
      "+--------------------+-----+-----+\n",
      "\n"
     ]
    }
   ],
   "source": [
    "# Find the columns where abool is false and n is less than 1\n",
    "df.filter(~ df.abool & (df.n < 1)).show()"
   ]
  },
  {
   "cell_type": "code",
   "execution_count": 81,
   "id": "68113898",
   "metadata": {},
   "outputs": [
    {
     "name": "stdout",
     "output_type": "stream",
     "text": [
      "+--------------------+-----+-----+\n",
      "|                   n|group|abool|\n",
      "+--------------------+-----+-----+\n",
      "|  -0.712390662050588|    z|false|\n",
      "|   0.753766378659703|    x|false|\n",
      "|-0.04450307833805...|    z|false|\n",
      "| 0.45181233874578974|    y|false|\n",
      "|  1.3451017084510097|    z|false|\n",
      "|  0.5323378882945463|    y|false|\n",
      "|  1.3501878997225267|    z|false|\n",
      "|  0.8612113741693206|    x|false|\n",
      "| -1.0453771305385342|    y| true|\n",
      "| -0.7889890249515489|    x|false|\n",
      "|  -1.261605945319069|    y|false|\n",
      "|  0.5628467852810314|    y| true|\n",
      "|-0.24332625188556253|    y| true|\n",
      "|  0.9137407048596775|    y|false|\n",
      "| 0.31735092273633597|    x|false|\n",
      "| 0.12730328020698067|    z|false|\n",
      "|  0.6062886568962988|    x|false|\n",
      "|-0.02677164998644...|    x| true|\n",
      "+--------------------+-----+-----+\n",
      "\n"
     ]
    }
   ],
   "source": [
    "# Find the columns where abool is false or n is less than 1\n",
    "df.filter(~ df.abool | (df.n < 1)).show()"
   ]
  },
  {
   "cell_type": "markdown",
   "id": "44d1cb93",
   "metadata": {},
   "source": [
    "### Sorting"
   ]
  },
  {
   "cell_type": "code",
   "execution_count": 82,
   "id": "e539b7c6",
   "metadata": {},
   "outputs": [
    {
     "name": "stdout",
     "output_type": "stream",
     "text": [
      "+--------------------+-----+-----+\n",
      "|                   n|group|abool|\n",
      "+--------------------+-----+-----+\n",
      "|  -0.712390662050588|    z|false|\n",
      "|   0.753766378659703|    x|false|\n",
      "|-0.04450307833805...|    z|false|\n",
      "| 0.45181233874578974|    y|false|\n",
      "|  1.3451017084510097|    z|false|\n",
      "+--------------------+-----+-----+\n",
      "only showing top 5 rows\n",
      "\n"
     ]
    }
   ],
   "source": [
    "# Use the starter code above to re-create a spark dataframe.\n",
    "df = spark.createDataFrame(pandas_dataframe)\n",
    "df.show(5)"
   ]
  },
  {
   "cell_type": "code",
   "execution_count": 83,
   "id": "9814be10",
   "metadata": {},
   "outputs": [
    {
     "name": "stdout",
     "output_type": "stream",
     "text": [
      "+--------------------+-----+-----+\n",
      "|                   n|group|abool|\n",
      "+--------------------+-----+-----+\n",
      "|  -1.261605945319069|    y|false|\n",
      "| -1.0453771305385342|    y| true|\n",
      "| -0.7889890249515489|    x|false|\n",
      "|  -0.712390662050588|    z|false|\n",
      "|-0.24332625188556253|    y| true|\n",
      "|-0.04450307833805...|    z|false|\n",
      "|-0.02677164998644...|    x| true|\n",
      "| 0.12730328020698067|    z|false|\n",
      "| 0.31735092273633597|    x|false|\n",
      "| 0.45181233874578974|    y|false|\n",
      "|  0.5323378882945463|    y|false|\n",
      "|  0.5628467852810314|    y| true|\n",
      "|  0.6062886568962988|    x|false|\n",
      "|   0.753766378659703|    x|false|\n",
      "|  0.8612113741693206|    x|false|\n",
      "|  0.9137407048596775|    y|false|\n",
      "|  1.3451017084510097|    z|false|\n",
      "|  1.3501878997225267|    z|false|\n",
      "|  1.4786857374358966|    z| true|\n",
      "|  2.1503829673811126|    y| true|\n",
      "+--------------------+-----+-----+\n",
      "\n"
     ]
    }
   ],
   "source": [
    "#Sort by the n value.\n",
    "df.sort('n').show()"
   ]
  },
  {
   "cell_type": "code",
   "execution_count": 84,
   "id": "78d065b6",
   "metadata": {},
   "outputs": [
    {
     "name": "stdout",
     "output_type": "stream",
     "text": [
      "+--------------------+-----+-----+\n",
      "|                   n|group|abool|\n",
      "+--------------------+-----+-----+\n",
      "| -0.7889890249515489|    x|false|\n",
      "|  0.6062886568962988|    x|false|\n",
      "|-0.02677164998644...|    x| true|\n",
      "|   0.753766378659703|    x|false|\n",
      "|  0.8612113741693206|    x|false|\n",
      "| 0.31735092273633597|    x|false|\n",
      "|-0.24332625188556253|    y| true|\n",
      "|  0.5323378882945463|    y|false|\n",
      "|  -1.261605945319069|    y|false|\n",
      "|  0.5628467852810314|    y| true|\n",
      "|  2.1503829673811126|    y| true|\n",
      "| -1.0453771305385342|    y| true|\n",
      "| 0.45181233874578974|    y|false|\n",
      "|  0.9137407048596775|    y|false|\n",
      "|  1.3501878997225267|    z|false|\n",
      "|  1.4786857374358966|    z| true|\n",
      "|  1.3451017084510097|    z|false|\n",
      "|-0.04450307833805...|    z|false|\n",
      "| 0.12730328020698067|    z|false|\n",
      "|  -0.712390662050588|    z|false|\n",
      "+--------------------+-----+-----+\n",
      "\n"
     ]
    }
   ],
   "source": [
    "# Sort by the group value, both ascending and descending.\n",
    "from pyspark.sql.functions import asc, desc\n",
    "df.sort(asc('group')).show()"
   ]
  },
  {
   "cell_type": "code",
   "execution_count": 85,
   "id": "24e29bd9",
   "metadata": {},
   "outputs": [
    {
     "name": "stdout",
     "output_type": "stream",
     "text": [
      "+--------------------+-----+-----+\n",
      "|                   n|group|abool|\n",
      "+--------------------+-----+-----+\n",
      "|-0.04450307833805...|    z|false|\n",
      "|  1.3501878997225267|    z|false|\n",
      "|  -0.712390662050588|    z|false|\n",
      "| 0.12730328020698067|    z|false|\n",
      "|  1.4786857374358966|    z| true|\n",
      "|  1.3451017084510097|    z|false|\n",
      "| -1.0453771305385342|    y| true|\n",
      "|  0.5628467852810314|    y| true|\n",
      "|  0.5323378882945463|    y|false|\n",
      "|  -1.261605945319069|    y|false|\n",
      "| 0.45181233874578974|    y|false|\n",
      "|-0.24332625188556253|    y| true|\n",
      "|  0.9137407048596775|    y|false|\n",
      "|  2.1503829673811126|    y| true|\n",
      "|  0.8612113741693206|    x|false|\n",
      "| 0.31735092273633597|    x|false|\n",
      "|   0.753766378659703|    x|false|\n",
      "| -0.7889890249515489|    x|false|\n",
      "|  0.6062886568962988|    x|false|\n",
      "|-0.02677164998644...|    x| true|\n",
      "+--------------------+-----+-----+\n",
      "\n"
     ]
    }
   ],
   "source": [
    "df.sort(desc('group')).show()"
   ]
  },
  {
   "cell_type": "code",
   "execution_count": 86,
   "id": "f531b38b",
   "metadata": {},
   "outputs": [
    {
     "name": "stdout",
     "output_type": "stream",
     "text": [
      "+--------------------+-----+-----+\n",
      "|                   n|group|abool|\n",
      "+--------------------+-----+-----+\n",
      "| -0.7889890249515489|    x|false|\n",
      "|-0.02677164998644...|    x| true|\n",
      "| 0.31735092273633597|    x|false|\n",
      "|  0.6062886568962988|    x|false|\n",
      "|   0.753766378659703|    x|false|\n",
      "|  0.8612113741693206|    x|false|\n",
      "|  -1.261605945319069|    y|false|\n",
      "| -1.0453771305385342|    y| true|\n",
      "|-0.24332625188556253|    y| true|\n",
      "| 0.45181233874578974|    y|false|\n",
      "|  0.5323378882945463|    y|false|\n",
      "|  0.5628467852810314|    y| true|\n",
      "|  0.9137407048596775|    y|false|\n",
      "|  2.1503829673811126|    y| true|\n",
      "|  -0.712390662050588|    z|false|\n",
      "|-0.04450307833805...|    z|false|\n",
      "| 0.12730328020698067|    z|false|\n",
      "|  1.3451017084510097|    z|false|\n",
      "|  1.3501878997225267|    z|false|\n",
      "|  1.4786857374358966|    z| true|\n",
      "+--------------------+-----+-----+\n",
      "\n"
     ]
    }
   ],
   "source": [
    "# Sort by the group value first, then, within each group, sort by n value.\n",
    "df.sort('group', 'n').show()"
   ]
  },
  {
   "cell_type": "code",
   "execution_count": 87,
   "id": "bc5e4b82",
   "metadata": {},
   "outputs": [
    {
     "name": "stdout",
     "output_type": "stream",
     "text": [
      "+--------------------+-----+-----+\n",
      "|                   n|group|abool|\n",
      "+--------------------+-----+-----+\n",
      "| -0.7889890249515489|    x|false|\n",
      "| 0.31735092273633597|    x|false|\n",
      "|  0.6062886568962988|    x|false|\n",
      "|   0.753766378659703|    x|false|\n",
      "|  0.8612113741693206|    x|false|\n",
      "|  -1.261605945319069|    y|false|\n",
      "| 0.45181233874578974|    y|false|\n",
      "|  0.5323378882945463|    y|false|\n",
      "|  0.9137407048596775|    y|false|\n",
      "|  -0.712390662050588|    z|false|\n",
      "|-0.04450307833805...|    z|false|\n",
      "| 0.12730328020698067|    z|false|\n",
      "|  1.3451017084510097|    z|false|\n",
      "|  1.3501878997225267|    z|false|\n",
      "|-0.02677164998644...|    x| true|\n",
      "| -1.0453771305385342|    y| true|\n",
      "|-0.24332625188556253|    y| true|\n",
      "|  0.5628467852810314|    y| true|\n",
      "|  2.1503829673811126|    y| true|\n",
      "|  1.4786857374358966|    z| true|\n",
      "+--------------------+-----+-----+\n",
      "\n"
     ]
    }
   ],
   "source": [
    "# Sort by abool, group, and n. \n",
    "# Does it matter in what order you specify the columns when sorting?\n",
    "df.sort('abool', 'group', 'n').show()"
   ]
  },
  {
   "cell_type": "markdown",
   "id": "2e6b21f6",
   "metadata": {},
   "source": [
    "It does matter as it determines in what order they will be sorted. When the values for the first specified column are the same, the next specified column will determine sort order."
   ]
  },
  {
   "cell_type": "markdown",
   "id": "23016a2c",
   "metadata": {},
   "source": [
    "### Spark SQL"
   ]
  },
  {
   "cell_type": "code",
   "execution_count": 89,
   "id": "22d6ed62",
   "metadata": {},
   "outputs": [
    {
     "name": "stdout",
     "output_type": "stream",
     "text": [
      "+--------------------+-----+-----+\n",
      "|                   n|group|abool|\n",
      "+--------------------+-----+-----+\n",
      "|  -0.712390662050588|    z|false|\n",
      "|   0.753766378659703|    x|false|\n",
      "|-0.04450307833805...|    z|false|\n",
      "| 0.45181233874578974|    y|false|\n",
      "|  1.3451017084510097|    z|false|\n",
      "+--------------------+-----+-----+\n",
      "only showing top 5 rows\n",
      "\n"
     ]
    }
   ],
   "source": [
    "# Use the starter code above to re-create a spark dataframe.\n",
    "df = spark.createDataFrame(pandas_dataframe)\n",
    "df.show(5)"
   ]
  },
  {
   "cell_type": "code",
   "execution_count": 93,
   "id": "e30336f7",
   "metadata": {},
   "outputs": [
    {
     "name": "stdout",
     "output_type": "stream",
     "text": [
      "+--------------------+-----+-----+\n",
      "|                   n|group|abool|\n",
      "+--------------------+-----+-----+\n",
      "|  -0.712390662050588|    z|false|\n",
      "|   0.753766378659703|    x|false|\n",
      "|-0.04450307833805...|    z|false|\n",
      "| 0.45181233874578974|    y|false|\n",
      "|  1.3451017084510097|    z|false|\n",
      "|  0.5323378882945463|    y|false|\n",
      "|  1.3501878997225267|    z|false|\n",
      "+--------------------+-----+-----+\n",
      "only showing top 7 rows\n",
      "\n"
     ]
    }
   ],
   "source": [
    "# Turn your dataframe into a table that can be queried with spark SQL. \n",
    "#N ame the table my_df. \n",
    "# Answer the rest of the questions in this section with a spark sql query \n",
    "# (spark.sql) against my_df. After each step, view the first 7 records from the dataframe.\n",
    "df.createOrReplaceTempView(\"my_df\")\n",
    "spark.sql(\"\"\"\n",
    "Select *\n",
    "From my_df\"\"\").show(7)"
   ]
  },
  {
   "cell_type": "code",
   "execution_count": 95,
   "id": "096b4a94",
   "metadata": {},
   "outputs": [
    {
     "name": "stdout",
     "output_type": "stream",
     "text": [
      "+--------------------+-----+-----+\n",
      "|                   n|group|abool|\n",
      "+--------------------+-----+-----+\n",
      "|  -0.712390662050588|    z|false|\n",
      "|   0.753766378659703|    x|false|\n",
      "|-0.04450307833805...|    z|false|\n",
      "| 0.45181233874578974|    y|false|\n",
      "|  1.3451017084510097|    z|false|\n",
      "|  0.5323378882945463|    y|false|\n",
      "|  1.3501878997225267|    z|false|\n",
      "|  0.8612113741693206|    x|false|\n",
      "|  1.4786857374358966|    z| true|\n",
      "| -1.0453771305385342|    y| true|\n",
      "| -0.7889890249515489|    x|false|\n",
      "|  -1.261605945319069|    y|false|\n",
      "|  0.5628467852810314|    y| true|\n",
      "|-0.24332625188556253|    y| true|\n",
      "|  0.9137407048596775|    y|false|\n",
      "| 0.31735092273633597|    x|false|\n",
      "| 0.12730328020698067|    z|false|\n",
      "|  2.1503829673811126|    y| true|\n",
      "|  0.6062886568962988|    x|false|\n",
      "|-0.02677164998644...|    x| true|\n",
      "+--------------------+-----+-----+\n",
      "\n"
     ]
    }
   ],
   "source": [
    "# Write a query that shows all of the columns from your dataframe.\n",
    "spark.sql(\"\"\"SELECT * FROM my_df\"\"\").show()"
   ]
  },
  {
   "cell_type": "code",
   "execution_count": 97,
   "id": "75f30c3c",
   "metadata": {},
   "outputs": [
    {
     "name": "stdout",
     "output_type": "stream",
     "text": [
      "+--------------------+-----+\n",
      "|                   n|abool|\n",
      "+--------------------+-----+\n",
      "|  -0.712390662050588|false|\n",
      "|   0.753766378659703|false|\n",
      "|-0.04450307833805...|false|\n",
      "| 0.45181233874578974|false|\n",
      "|  1.3451017084510097|false|\n",
      "|  0.5323378882945463|false|\n",
      "|  1.3501878997225267|false|\n",
      "|  0.8612113741693206|false|\n",
      "|  1.4786857374358966| true|\n",
      "| -1.0453771305385342| true|\n",
      "| -0.7889890249515489|false|\n",
      "|  -1.261605945319069|false|\n",
      "|  0.5628467852810314| true|\n",
      "|-0.24332625188556253| true|\n",
      "|  0.9137407048596775|false|\n",
      "| 0.31735092273633597|false|\n",
      "| 0.12730328020698067|false|\n",
      "|  2.1503829673811126| true|\n",
      "|  0.6062886568962988|false|\n",
      "|-0.02677164998644...| true|\n",
      "+--------------------+-----+\n",
      "\n"
     ]
    }
   ],
   "source": [
    "# Write a query that shows just the n and abool columns from the dataframe.\n",
    "spark.sql(\"\"\"SELECT n, abool FROM my_df\"\"\").show()"
   ]
  },
  {
   "cell_type": "code",
   "execution_count": 99,
   "id": "e592fa72",
   "metadata": {},
   "outputs": [
    {
     "name": "stdout",
     "output_type": "stream",
     "text": [
      "+--------------------+---+\n",
      "|                   n|  g|\n",
      "+--------------------+---+\n",
      "|  -0.712390662050588|  z|\n",
      "|   0.753766378659703|  x|\n",
      "|-0.04450307833805...|  z|\n",
      "| 0.45181233874578974|  y|\n",
      "|  1.3451017084510097|  z|\n",
      "|  0.5323378882945463|  y|\n",
      "|  1.3501878997225267|  z|\n",
      "|  0.8612113741693206|  x|\n",
      "|  1.4786857374358966|  z|\n",
      "| -1.0453771305385342|  y|\n",
      "| -0.7889890249515489|  x|\n",
      "|  -1.261605945319069|  y|\n",
      "|  0.5628467852810314|  y|\n",
      "|-0.24332625188556253|  y|\n",
      "|  0.9137407048596775|  y|\n",
      "| 0.31735092273633597|  x|\n",
      "| 0.12730328020698067|  z|\n",
      "|  2.1503829673811126|  y|\n",
      "|  0.6062886568962988|  x|\n",
      "|-0.02677164998644...|  x|\n",
      "+--------------------+---+\n",
      "\n"
     ]
    }
   ],
   "source": [
    "# Write a query that shows just the n and group columns. Rename the group column to g.\n",
    "spark.sql(\"\"\"SELECT n, group as g FROM my_df\"\"\").show()"
   ]
  },
  {
   "cell_type": "code",
   "execution_count": 103,
   "id": "50c84aaf",
   "metadata": {},
   "outputs": [
    {
     "name": "stdout",
     "output_type": "stream",
     "text": [
      "+--------------------+--------------------+--------------------+\n",
      "|                   n|                  n2|                  n3|\n",
      "+--------------------+--------------------+--------------------+\n",
      "|  -0.712390662050588|  -0.356195331025294|  -1.712390662050588|\n",
      "|   0.753766378659703|  0.3768831893298515|-0.24623362134029703|\n",
      "|-0.04450307833805...|-0.02225153916902...| -1.0445030783380536|\n",
      "| 0.45181233874578974| 0.22590616937289487| -0.5481876612542103|\n",
      "|  1.3451017084510097|  0.6725508542255049| 0.34510170845100974|\n",
      "|  0.5323378882945463| 0.26616894414727316| -0.4676621117054537|\n",
      "|  1.3501878997225267|  0.6750939498612634| 0.35018789972252673|\n",
      "|  0.8612113741693206|  0.4306056870846603| -0.1387886258306794|\n",
      "|  1.4786857374358966|  0.7393428687179483|  0.4786857374358966|\n",
      "| -1.0453771305385342| -0.5226885652692671|  -2.045377130538534|\n",
      "| -0.7889890249515489|-0.39449451247577444| -1.7889890249515488|\n",
      "|  -1.261605945319069| -0.6308029726595346|  -2.261605945319069|\n",
      "|  0.5628467852810314|  0.2814233926405157| -0.4371532147189686|\n",
      "|-0.24332625188556253|-0.12166312594278127| -1.2433262518855626|\n",
      "|  0.9137407048596775| 0.45687035242983876|-0.08625929514032249|\n",
      "| 0.31735092273633597| 0.15867546136816799|  -0.682649077263664|\n",
      "| 0.12730328020698067| 0.06365164010349034| -0.8726967197930193|\n",
      "|  2.1503829673811126|  1.0751914836905563|  1.1503829673811126|\n",
      "|  0.6062886568962988|  0.3031443284481494|-0.39371134310370115|\n",
      "|-0.02677164998644...|-0.01338582499322...| -1.0267716499864408|\n",
      "+--------------------+--------------------+--------------------+\n",
      "\n"
     ]
    }
   ],
   "source": [
    "# Write a query that selects n, and creates two new columns: n2, \n",
    "# the original n values halved, and n3: the original n values minus 1.\n",
    "spark.sql(\"\"\"SELECT n, n/2 as n2, n-1 as n3 FROM my_df\"\"\").show()"
   ]
  },
  {
   "cell_type": "code",
   "execution_count": null,
   "id": "0efc2ddc",
   "metadata": {},
   "outputs": [],
   "source": [
    "What happens if you make a SQL syntax error in your query?"
   ]
  },
  {
   "cell_type": "code",
   "execution_count": null,
   "id": "900f6b93",
   "metadata": {},
   "outputs": [],
   "source": [
    "Aggregating"
   ]
  },
  {
   "cell_type": "code",
   "execution_count": null,
   "id": "f430af4f",
   "metadata": {},
   "outputs": [],
   "source": [
    "What is the average n value for each group in the group column?"
   ]
  },
  {
   "cell_type": "code",
   "execution_count": null,
   "id": "814542ee",
   "metadata": {},
   "outputs": [],
   "source": [
    "What is the maximum n value for each group in the group column?"
   ]
  },
  {
   "cell_type": "code",
   "execution_count": null,
   "id": "43704465",
   "metadata": {},
   "outputs": [],
   "source": [
    "What is the minimum n value by abool?"
   ]
  },
  {
   "cell_type": "code",
   "execution_count": null,
   "id": "281b20f0",
   "metadata": {},
   "outputs": [],
   "source": [
    "What is the average n value for each unique combination of the group and abool column?"
   ]
  }
 ],
 "metadata": {
  "kernelspec": {
   "display_name": "Python 3",
   "language": "python",
   "name": "python3"
  },
  "language_info": {
   "codemirror_mode": {
    "name": "ipython",
    "version": 3
   },
   "file_extension": ".py",
   "mimetype": "text/x-python",
   "name": "python",
   "nbconvert_exporter": "python",
   "pygments_lexer": "ipython3",
   "version": "3.8.8"
  }
 },
 "nbformat": 4,
 "nbformat_minor": 5
}
